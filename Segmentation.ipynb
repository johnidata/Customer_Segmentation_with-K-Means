{
 "cells": [
  {
   "cell_type": "markdown",
   "id": "393e9e52",
   "metadata": {},
   "source": [
    "# John Oppong Acquah"
   ]
  },
  {
   "cell_type": "markdown",
   "id": "ff4e770b",
   "metadata": {},
   "source": [
    "## Mall Customers Clustering Analysis"
   ]
  },
  {
   "cell_type": "markdown",
   "id": "639d1a55",
   "metadata": {},
   "source": [
    "## Introduction\n",
    "\n",
    "#### Customer Segmentation\n",
    "Customer segmentation is the process of dividing customers into groups based on common characteristics so companies can market to each group effectively and appropriately. Segmentation allows marketers to better tailor their marketing efforts to various audience subsets. Those efforts can relate to both communications and product development.\n",
    "\n",
    "Customer segmentation requires the gathering of specific specific information – data – about customers and analyze it to identify patterns that can be used to create segments.\n",
    "\n",
    "\n",
    "\n",
    "### Problem Statement\n",
    "A mall wants to improve its products and improve sales.\n",
    "\n",
    "To achieve this they need to segment their customers to target market purposes and promotions\n",
    "\n",
    "\n",
    "\n",
    "### Objectives\n",
    "\n",
    "The objectives of the project are:\n",
    "1. To explore the data\n",
    "\n",
    "2. To segment the customers of the mall based on certain attributes. The attributes under consideration are Annual Income, thus how much the make in a year and Spending Score, how much they spend on each visit to the mall.\n",
    "\n",
    "3. Analyze each segment with respect to the attributes under consideration (Annual Income, Spending Score)\n",
    "\n",
    "\n",
    "# Steps\n",
    "\n",
    "#### 1. Importing libraries\n",
    "This step involves the importation of tools and libraries to aid the work.\n",
    "\n",
    "\n",
    "####  2. Data Gathering\n",
    "The dataset can be obtained from kaggle.\n",
    "\n",
    "\n",
    "#### 3. Exploratory Data Analysis\n",
    "Data will be explored using dexcriptive statistics and visualisations. \n",
    "Data will be cleaned to make sure there are no errors or missing values.\n",
    "\n",
    "\n",
    "#### 4. Data Preprocessing for modeling\n",
    "At this point, the metrics are centered and tranformed to enhace KMeans clustering.\n",
    "\n",
    "#### 5. Creating Clusters with K-Means Algorithm\n",
    "This stage involves using the unsupervised machine learning learning algorithm(k-Means) to create clusters.\n",
    "\n",
    "#### 6. Analysing the clusters\n",
    "This clusters involves identifying the common characteristics within a cluster based on the attributes (Annual Income, Spending score)\n",
    "\n",
    "\n",
    "\n",
    "## Definition of Attributes\n",
    "\n",
    "#### Annual Income\n",
    "Annual income is the amount of money you receive during the year into your bank account, before any deductions.\n",
    "\n",
    "\n",
    "#### Spending Score\n",
    "It is the score(out of 100) given to a customer by the mall authorities, based on the money spent and the behavior of the customer.\n",
    "\n",
    "\n",
    "\n"
   ]
  },
  {
   "cell_type": "markdown",
   "id": "e26634e3",
   "metadata": {},
   "source": [
    "# 1. Importing Libraries"
   ]
  },
  {
   "cell_type": "code",
   "execution_count": 1,
   "id": "fa5ebd19",
   "metadata": {},
   "outputs": [],
   "source": [
    "import numpy as np\n",
    "import pandas as pd\n",
    "import matplotlib.pyplot as plt\n",
    "import seaborn as sns\n",
    "import warnings\n",
    "import os\n",
    "import scipy\n",
    "from scipy.stats import norm\n",
    "import warnings\n",
    "warnings.filterwarnings(\"ignore\")\n"
   ]
  },
  {
   "cell_type": "code",
   "execution_count": 2,
   "id": "21f7ca0d",
   "metadata": {},
   "outputs": [
    {
     "data": {
      "text/plain": [
       "<function nt.getcwd()>"
      ]
     },
     "execution_count": 2,
     "metadata": {},
     "output_type": "execute_result"
    }
   ],
   "source": [
    "os.getcwd"
   ]
  },
  {
   "cell_type": "markdown",
   "id": "1d9b1fee",
   "metadata": {},
   "source": [
    "# 2. Gathering data"
   ]
  },
  {
   "cell_type": "code",
   "execution_count": 3,
   "id": "354d1e21",
   "metadata": {},
   "outputs": [],
   "source": [
    "mc = pd.read_csv('Mall_Customers.csv')"
   ]
  },
  {
   "cell_type": "markdown",
   "id": "b7db80cd",
   "metadata": {},
   "source": [
    "# 3. Exploratory Data Analysis"
   ]
  },
  {
   "cell_type": "code",
   "execution_count": 4,
   "id": "68e9d521",
   "metadata": {},
   "outputs": [
    {
     "data": {
      "text/html": [
       "<div>\n",
       "<style scoped>\n",
       "    .dataframe tbody tr th:only-of-type {\n",
       "        vertical-align: middle;\n",
       "    }\n",
       "\n",
       "    .dataframe tbody tr th {\n",
       "        vertical-align: top;\n",
       "    }\n",
       "\n",
       "    .dataframe thead th {\n",
       "        text-align: right;\n",
       "    }\n",
       "</style>\n",
       "<table border=\"1\" class=\"dataframe\">\n",
       "  <thead>\n",
       "    <tr style=\"text-align: right;\">\n",
       "      <th></th>\n",
       "      <th>CustomerID</th>\n",
       "      <th>Gender</th>\n",
       "      <th>Age</th>\n",
       "      <th>Annual Income (k$)</th>\n",
       "      <th>Spending Score (1-100)</th>\n",
       "    </tr>\n",
       "  </thead>\n",
       "  <tbody>\n",
       "    <tr>\n",
       "      <th>0</th>\n",
       "      <td>1</td>\n",
       "      <td>Male</td>\n",
       "      <td>19</td>\n",
       "      <td>15</td>\n",
       "      <td>39</td>\n",
       "    </tr>\n",
       "    <tr>\n",
       "      <th>1</th>\n",
       "      <td>2</td>\n",
       "      <td>Male</td>\n",
       "      <td>21</td>\n",
       "      <td>15</td>\n",
       "      <td>81</td>\n",
       "    </tr>\n",
       "    <tr>\n",
       "      <th>2</th>\n",
       "      <td>3</td>\n",
       "      <td>Female</td>\n",
       "      <td>20</td>\n",
       "      <td>16</td>\n",
       "      <td>6</td>\n",
       "    </tr>\n",
       "    <tr>\n",
       "      <th>3</th>\n",
       "      <td>4</td>\n",
       "      <td>Female</td>\n",
       "      <td>23</td>\n",
       "      <td>16</td>\n",
       "      <td>77</td>\n",
       "    </tr>\n",
       "    <tr>\n",
       "      <th>4</th>\n",
       "      <td>5</td>\n",
       "      <td>Female</td>\n",
       "      <td>31</td>\n",
       "      <td>17</td>\n",
       "      <td>40</td>\n",
       "    </tr>\n",
       "  </tbody>\n",
       "</table>\n",
       "</div>"
      ],
      "text/plain": [
       "   CustomerID  Gender  Age  Annual Income (k$)  Spending Score (1-100)\n",
       "0           1    Male   19                  15                      39\n",
       "1           2    Male   21                  15                      81\n",
       "2           3  Female   20                  16                       6\n",
       "3           4  Female   23                  16                      77\n",
       "4           5  Female   31                  17                      40"
      ]
     },
     "execution_count": 4,
     "metadata": {},
     "output_type": "execute_result"
    }
   ],
   "source": [
    "#displaying the first 5 rows of the dataset\n",
    "mc.head()"
   ]
  },
  {
   "cell_type": "code",
   "execution_count": 5,
   "id": "6c727300",
   "metadata": {},
   "outputs": [
    {
     "data": {
      "text/plain": [
       "0"
      ]
     },
     "execution_count": 5,
     "metadata": {},
     "output_type": "execute_result"
    }
   ],
   "source": [
    "# is there any null values in the dataset, if so sum them up\n",
    "mc.isnull().any().sum()"
   ]
  },
  {
   "cell_type": "code",
   "execution_count": 6,
   "id": "674789d5",
   "metadata": {},
   "outputs": [
    {
     "name": "stdout",
     "output_type": "stream",
     "text": [
      "<class 'pandas.core.frame.DataFrame'>\n",
      "RangeIndex: 200 entries, 0 to 199\n",
      "Data columns (total 5 columns):\n",
      " #   Column                  Non-Null Count  Dtype \n",
      "---  ------                  --------------  ----- \n",
      " 0   CustomerID              200 non-null    int64 \n",
      " 1   Gender                  200 non-null    object\n",
      " 2   Age                     200 non-null    int64 \n",
      " 3   Annual Income (k$)      200 non-null    int64 \n",
      " 4   Spending Score (1-100)  200 non-null    int64 \n",
      "dtypes: int64(4), object(1)\n",
      "memory usage: 7.9+ KB\n"
     ]
    }
   ],
   "source": [
    "mc.info()"
   ]
  },
  {
   "cell_type": "code",
   "execution_count": 7,
   "id": "b40dac9e",
   "metadata": {},
   "outputs": [
    {
     "data": {
      "text/html": [
       "<div>\n",
       "<style scoped>\n",
       "    .dataframe tbody tr th:only-of-type {\n",
       "        vertical-align: middle;\n",
       "    }\n",
       "\n",
       "    .dataframe tbody tr th {\n",
       "        vertical-align: top;\n",
       "    }\n",
       "\n",
       "    .dataframe thead th {\n",
       "        text-align: right;\n",
       "    }\n",
       "</style>\n",
       "<table border=\"1\" class=\"dataframe\">\n",
       "  <thead>\n",
       "    <tr style=\"text-align: right;\">\n",
       "      <th></th>\n",
       "      <th>CustomerID</th>\n",
       "      <th>Age</th>\n",
       "      <th>Annual Income (k$)</th>\n",
       "      <th>Spending Score (1-100)</th>\n",
       "    </tr>\n",
       "  </thead>\n",
       "  <tbody>\n",
       "    <tr>\n",
       "      <th>count</th>\n",
       "      <td>200.000000</td>\n",
       "      <td>200.000000</td>\n",
       "      <td>200.000000</td>\n",
       "      <td>200.000000</td>\n",
       "    </tr>\n",
       "    <tr>\n",
       "      <th>mean</th>\n",
       "      <td>100.500000</td>\n",
       "      <td>38.850000</td>\n",
       "      <td>60.560000</td>\n",
       "      <td>50.200000</td>\n",
       "    </tr>\n",
       "    <tr>\n",
       "      <th>std</th>\n",
       "      <td>57.879185</td>\n",
       "      <td>13.969007</td>\n",
       "      <td>26.264721</td>\n",
       "      <td>25.823522</td>\n",
       "    </tr>\n",
       "    <tr>\n",
       "      <th>min</th>\n",
       "      <td>1.000000</td>\n",
       "      <td>18.000000</td>\n",
       "      <td>15.000000</td>\n",
       "      <td>1.000000</td>\n",
       "    </tr>\n",
       "    <tr>\n",
       "      <th>25%</th>\n",
       "      <td>50.750000</td>\n",
       "      <td>28.750000</td>\n",
       "      <td>41.500000</td>\n",
       "      <td>34.750000</td>\n",
       "    </tr>\n",
       "    <tr>\n",
       "      <th>50%</th>\n",
       "      <td>100.500000</td>\n",
       "      <td>36.000000</td>\n",
       "      <td>61.500000</td>\n",
       "      <td>50.000000</td>\n",
       "    </tr>\n",
       "    <tr>\n",
       "      <th>75%</th>\n",
       "      <td>150.250000</td>\n",
       "      <td>49.000000</td>\n",
       "      <td>78.000000</td>\n",
       "      <td>73.000000</td>\n",
       "    </tr>\n",
       "    <tr>\n",
       "      <th>max</th>\n",
       "      <td>200.000000</td>\n",
       "      <td>70.000000</td>\n",
       "      <td>137.000000</td>\n",
       "      <td>99.000000</td>\n",
       "    </tr>\n",
       "  </tbody>\n",
       "</table>\n",
       "</div>"
      ],
      "text/plain": [
       "       CustomerID         Age  Annual Income (k$)  Spending Score (1-100)\n",
       "count  200.000000  200.000000          200.000000              200.000000\n",
       "mean   100.500000   38.850000           60.560000               50.200000\n",
       "std     57.879185   13.969007           26.264721               25.823522\n",
       "min      1.000000   18.000000           15.000000                1.000000\n",
       "25%     50.750000   28.750000           41.500000               34.750000\n",
       "50%    100.500000   36.000000           61.500000               50.000000\n",
       "75%    150.250000   49.000000           78.000000               73.000000\n",
       "max    200.000000   70.000000          137.000000               99.000000"
      ]
     },
     "execution_count": 7,
     "metadata": {},
     "output_type": "execute_result"
    }
   ],
   "source": [
    "mc.describe()"
   ]
  },
  {
   "cell_type": "code",
   "execution_count": 8,
   "id": "30e1389f",
   "metadata": {},
   "outputs": [
    {
     "data": {
      "text/html": [
       "<div>\n",
       "<style scoped>\n",
       "    .dataframe tbody tr th:only-of-type {\n",
       "        vertical-align: middle;\n",
       "    }\n",
       "\n",
       "    .dataframe tbody tr th {\n",
       "        vertical-align: top;\n",
       "    }\n",
       "\n",
       "    .dataframe thead th {\n",
       "        text-align: right;\n",
       "    }\n",
       "</style>\n",
       "<table border=\"1\" class=\"dataframe\">\n",
       "  <thead>\n",
       "    <tr style=\"text-align: right;\">\n",
       "      <th></th>\n",
       "      <th>Gender</th>\n",
       "    </tr>\n",
       "  </thead>\n",
       "  <tbody>\n",
       "    <tr>\n",
       "      <th>count</th>\n",
       "      <td>200</td>\n",
       "    </tr>\n",
       "    <tr>\n",
       "      <th>unique</th>\n",
       "      <td>2</td>\n",
       "    </tr>\n",
       "    <tr>\n",
       "      <th>top</th>\n",
       "      <td>Female</td>\n",
       "    </tr>\n",
       "    <tr>\n",
       "      <th>freq</th>\n",
       "      <td>112</td>\n",
       "    </tr>\n",
       "  </tbody>\n",
       "</table>\n",
       "</div>"
      ],
      "text/plain": [
       "        Gender\n",
       "count      200\n",
       "unique       2\n",
       "top     Female\n",
       "freq       112"
      ]
     },
     "execution_count": 8,
     "metadata": {},
     "output_type": "execute_result"
    }
   ],
   "source": [
    "mc.describe(include = \"object\")"
   ]
  },
  {
   "cell_type": "code",
   "execution_count": 9,
   "id": "0c45ebaf",
   "metadata": {},
   "outputs": [],
   "source": [
    "mc.drop(\"CustomerID\", axis = 1, inplace =True)"
   ]
  },
  {
   "cell_type": "code",
   "execution_count": 10,
   "id": "e991629b",
   "metadata": {},
   "outputs": [
    {
     "data": {
      "text/html": [
       "<div>\n",
       "<style scoped>\n",
       "    .dataframe tbody tr th:only-of-type {\n",
       "        vertical-align: middle;\n",
       "    }\n",
       "\n",
       "    .dataframe tbody tr th {\n",
       "        vertical-align: top;\n",
       "    }\n",
       "\n",
       "    .dataframe thead th {\n",
       "        text-align: right;\n",
       "    }\n",
       "</style>\n",
       "<table border=\"1\" class=\"dataframe\">\n",
       "  <thead>\n",
       "    <tr style=\"text-align: right;\">\n",
       "      <th></th>\n",
       "      <th>Gender</th>\n",
       "      <th>Age</th>\n",
       "      <th>Annual Income (k$)</th>\n",
       "      <th>Spending Score (1-100)</th>\n",
       "    </tr>\n",
       "  </thead>\n",
       "  <tbody>\n",
       "    <tr>\n",
       "      <th>0</th>\n",
       "      <td>Male</td>\n",
       "      <td>19</td>\n",
       "      <td>15</td>\n",
       "      <td>39</td>\n",
       "    </tr>\n",
       "    <tr>\n",
       "      <th>1</th>\n",
       "      <td>Male</td>\n",
       "      <td>21</td>\n",
       "      <td>15</td>\n",
       "      <td>81</td>\n",
       "    </tr>\n",
       "    <tr>\n",
       "      <th>2</th>\n",
       "      <td>Female</td>\n",
       "      <td>20</td>\n",
       "      <td>16</td>\n",
       "      <td>6</td>\n",
       "    </tr>\n",
       "    <tr>\n",
       "      <th>3</th>\n",
       "      <td>Female</td>\n",
       "      <td>23</td>\n",
       "      <td>16</td>\n",
       "      <td>77</td>\n",
       "    </tr>\n",
       "    <tr>\n",
       "      <th>4</th>\n",
       "      <td>Female</td>\n",
       "      <td>31</td>\n",
       "      <td>17</td>\n",
       "      <td>40</td>\n",
       "    </tr>\n",
       "  </tbody>\n",
       "</table>\n",
       "</div>"
      ],
      "text/plain": [
       "   Gender  Age  Annual Income (k$)  Spending Score (1-100)\n",
       "0    Male   19                  15                      39\n",
       "1    Male   21                  15                      81\n",
       "2  Female   20                  16                       6\n",
       "3  Female   23                  16                      77\n",
       "4  Female   31                  17                      40"
      ]
     },
     "execution_count": 10,
     "metadata": {},
     "output_type": "execute_result"
    }
   ],
   "source": [
    "mc.head()"
   ]
  },
  {
   "cell_type": "code",
   "execution_count": null,
   "id": "386dc9ae",
   "metadata": {},
   "outputs": [],
   "source": []
  },
  {
   "cell_type": "code",
   "execution_count": 11,
   "id": "32e184d5",
   "metadata": {},
   "outputs": [],
   "source": [
    "# Function to create a countplot of all the categorical features\n",
    "def count_plot(mc, feature_name):\n",
    "    \n",
    "    \"\"\"\n",
    "    Displays a countplot of categorical variables in the data\n",
    "    \n",
    "    Input: Pandas DataFrame and Column name\n",
    "    Output: Countplot of the various categories\n",
    "    \n",
    "    \"\"\"\n",
    "    \n",
    "    \n",
    "    return mc[feature_name].value_counts(normalize = True).plot.bar(color = 'blue', alpha = 0.5,\n",
    "                                                                   title = \"FEATURE PROPORTIONS\",\n",
    "                                                                   legend = 'best')\n",
    "plt.show()"
   ]
  },
  {
   "cell_type": "code",
   "execution_count": 12,
   "id": "6c5d3a20",
   "metadata": {},
   "outputs": [
    {
     "data": {
      "text/plain": [
       "<AxesSubplot:title={'center':'FEATURE PROPORTIONS'}>"
      ]
     },
     "execution_count": 12,
     "metadata": {},
     "output_type": "execute_result"
    },
    {
     "data": {
      "image/png": "[encoded data removed]",
      "text/plain": [
       "<Figure size 432x288 with 1 Axes>"
      ]
     },
     "metadata": {
      "needs_background": "light"
     },
     "output_type": "display_data"
    }
   ],
   "source": [
    "count_plot(mc,'Gender')"
   ]
  },
  {
   "cell_type": "markdown",
   "id": "359c42b4",
   "metadata": {},
   "source": [
    "it can be infered from the data that there are more female customers than males."
   ]
  },
  {
   "cell_type": "code",
   "execution_count": 13,
   "id": "321bd346",
   "metadata": {},
   "outputs": [
    {
     "data": {
      "text/plain": [
       "Female    0.56\n",
       "Male      0.44\n",
       "Name: Gender, dtype: float64"
      ]
     },
     "execution_count": 13,
     "metadata": {},
     "output_type": "execute_result"
    }
   ],
   "source": [
    "mc['Gender'].value_counts(normalize = True)"
   ]
  },
  {
   "cell_type": "code",
   "execution_count": null,
   "id": "0dfb3d2e",
   "metadata": {},
   "outputs": [],
   "source": []
  },
  {
   "cell_type": "markdown",
   "id": "dcba1963",
   "metadata": {},
   "source": [
    "56% of the entire population in the dataset are females whiles 46% are males."
   ]
  },
  {
   "cell_type": "code",
   "execution_count": 14,
   "id": "b9fedcee",
   "metadata": {},
   "outputs": [
    {
     "data": {
      "text/plain": [
       "<AxesSubplot:xlabel='Age', ylabel='Annual Income (k$)'>"
      ]
     },
     "execution_count": 14,
     "metadata": {},
     "output_type": "execute_result"
    },
    {
     "data": {
      "image/png": "[encoded data removed]",
      "text/plain": [
       "<Figure size 720x576 with 1 Axes>"
      ]
     },
     "metadata": {
      "needs_background": "light"
     },
     "output_type": "display_data"
    }
   ],
   "source": [
    "plt.figure(figsize = (10,8))\n",
    "sns.scatterplot(mc['Age'],mc['Annual Income (k$)'], data = mc)"
   ]
  },
  {
   "cell_type": "markdown",
   "id": "c693932f",
   "metadata": {},
   "source": [
    "People between the ages of 30 and 50 earn the most."
   ]
  },
  {
   "cell_type": "markdown",
   "id": "95dab753",
   "metadata": {},
   "source": [
    "#### Lets check out the gender, their ages, and spending score"
   ]
  },
  {
   "cell_type": "code",
   "execution_count": 15,
   "id": "f284043d",
   "metadata": {},
   "outputs": [
    {
     "data": {
      "text/plain": [
       "<AxesSubplot:xlabel='Age', ylabel='Spending Score (1-100)'>"
      ]
     },
     "execution_count": 15,
     "metadata": {},
     "output_type": "execute_result"
    },
    {
     "data": {
      "image/png": "[encoded data removed]",
      "text/plain": [
       "<Figure size 720x576 with 1 Axes>"
      ]
     },
     "metadata": {
      "needs_background": "light"
     },
     "output_type": "display_data"
    }
   ],
   "source": [
    "plt.figure(figsize = (10,8))\n",
    "sns.scatterplot(mc['Age'],mc['Spending Score (1-100)'], hue = mc.Gender,data = mc)"
   ]
  },
  {
   "cell_type": "markdown",
   "id": "a9ba6ceb",
   "metadata": {},
   "source": [
    "Customers between the ages of 20 to 40 have higher spending scores. Gender does not matter here because males and females of the same ages have similar spending scores in general"
   ]
  },
  {
   "cell_type": "code",
   "execution_count": 16,
   "id": "794d65b8",
   "metadata": {},
   "outputs": [
    {
     "data": {
      "text/plain": [
       "Text(0.5, 1.0, 'Gender vrs Spending Score')"
      ]
     },
     "execution_count": 16,
     "metadata": {},
     "output_type": "execute_result"
    },
    {
     "data": {
      "image/png": "[encoded data removed]",
      "text/plain": [
       "<Figure size 720x576 with 1 Axes>"
      ]
     },
     "metadata": {
      "needs_background": "light"
     },
     "output_type": "display_data"
    }
   ],
   "source": [
    "plt.figure(figsize=(10, 8))\n",
    "sns.boxplot(x='Gender',y='Spending Score (1-100)',data=mc,hue = mc.Gender, orient = 'v')\n",
    "plt.title('Gender vrs Spending Score',fontsize = 15)"
   ]
  },
  {
   "cell_type": "code",
   "execution_count": 17,
   "id": "3b7267ab",
   "metadata": {
    "scrolled": false
   },
   "outputs": [
    {
     "data": {
      "image/png": "[encoded data removed]",
      "text/plain": [
       "<Figure size 720x576 with 1 Axes>"
      ]
     },
     "metadata": {
      "needs_background": "light"
     },
     "output_type": "display_data"
    }
   ],
   "source": [
    "plt.figure(figsize=(10, 8))\n",
    "sns.violinplot(x='Gender',y='Annual Income (k$)',data=mc,hue = mc.Gender, orient = 'v')\n",
    "plt.title('Gender vrs Annual Income',fontsize = 15)\n",
    "plt.show()"
   ]
  },
  {
   "cell_type": "markdown",
   "id": "54abeedb",
   "metadata": {},
   "source": [
    "Looking at the above visuals, it can be seen that males have a slightly higher annual income than females."
   ]
  },
  {
   "cell_type": "code",
   "execution_count": 18,
   "id": "6d9dba17",
   "metadata": {},
   "outputs": [
    {
     "data": {
      "image/png": "[encoded data removed]",
      "text/plain": [
       "<Figure size 540x540 with 12 Axes>"
      ]
     },
     "metadata": {
      "needs_background": "light"
     },
     "output_type": "display_data"
    }
   ],
   "source": [
    "sns.pairplot(mc)\n",
    "plt.title('Pairplot for the Data', fontsize = 20)\n",
    "plt.tight_layout()\n",
    "plt.show()"
   ]
  },
  {
   "cell_type": "code",
   "execution_count": 19,
   "id": "0c544588",
   "metadata": {},
   "outputs": [
    {
     "data": {
      "image/png": "[encoded data removed]",
      "text/plain": [
       "<Figure size 720x432 with 2 Axes>"
      ]
     },
     "metadata": {
      "needs_background": "light"
     },
     "output_type": "display_data"
    }
   ],
   "source": [
    "plt.rcParams['figure.figsize'] = (10, 6)\n",
    "sns.heatmap(mc.corr(), cmap = 'gist_yarg', annot = True)\n",
    "plt.title('Heatmap', fontsize = 20)\n",
    "plt.show()"
   ]
  },
  {
   "cell_type": "markdown",
   "id": "ca47ae19",
   "metadata": {},
   "source": [
    "## Getting summary statistics and distribution of numerical data"
   ]
  },
  {
   "cell_type": "code",
   "execution_count": 20,
   "id": "d165a664",
   "metadata": {},
   "outputs": [],
   "source": [
    "def explore_numvar(mc,feature_name):\n",
    "    \"\"\"\n",
    "    retrieves the summary of numerical variables from a pandas DataFrame\n",
    "    \n",
    "    INPUT: DataFrame and column name\n",
    "    OUTPUT: length,\n",
    "             minimum,\n",
    "             maximum,\n",
    "             median,\n",
    "             mean,\n",
    "             standard deviation,\n",
    "             number of missing values,\n",
    "             boxplot,\n",
    "             and a histogram\n",
    "        \n",
    "    \"\"\"\n",
    "\n",
    "    print('Summary Statistics \\n')\n",
    "    print(mc[feature_name].apply([len,min,max,np.median,np.mean,np.std]))\n",
    "    print(\"=================================================\")\n",
    "    print(\"Missing values: {}\".format(mc[feature_name].isnull().sum()))\n",
    "    print(\"=================================================\\n\")\n",
    "    plt.figure(figsize = (8,6))\n",
    "    # plotting a boxplot\n",
    "    meanpointprops = dict(marker = 'o',markeredgecolor = \"blue\",\n",
    "                          markerfacecolor='firebrick')\n",
    "    medianprops = dict(linestyle = \"-.\", linewidth =3, color = \"gold\")\n",
    "    plt.subplot(1,2,1)\n",
    "    plt.boxplot(mc[feature_name],vert = True,patch_artist = True, notch = True,\n",
    "               showmeans = True,medianprops = medianprops,meanprops = meanpointprops)\n",
    "    plt.xlabel(mc[feature_name].name)\n",
    "    plt.title(\"Boxplot\")\n",
    "    \n",
    "    # plotting histogram\n",
    "    plt.subplot(1,2,2)\n",
    "    plt.hist(mc[feature_name])\n",
    "    plt.title(\"Histogram\")\n",
    "    plt.tight_layout()\n",
    "    plt.show()"
   ]
  },
  {
   "cell_type": "code",
   "execution_count": 21,
   "id": "ca7fb840",
   "metadata": {
    "scrolled": false
   },
   "outputs": [
    {
     "name": "stdout",
     "output_type": "stream",
     "text": [
      "Summary Statistics \n",
      "\n",
      "len       200.000000\n",
      "min        18.000000\n",
      "max        70.000000\n",
      "median     36.000000\n",
      "mean       38.850000\n",
      "std        13.969007\n",
      "Name: Age, dtype: float64\n",
      "=================================================\n",
      "Missing values: 0\n",
      "=================================================\n",
      "\n"
     ]
    },
    {
     "data": {
      "image/png": "[encoded data removed]",
      "text/plain": [
       "<Figure size 576x432 with 2 Axes>"
      ]
     },
     "metadata": {
      "needs_background": "light"
     },
     "output_type": "display_data"
    }
   ],
   "source": [
    "explore_numvar(mc,\"Age\")"
   ]
  },
  {
   "cell_type": "code",
   "execution_count": 22,
   "id": "59ebf6a1",
   "metadata": {
    "scrolled": false
   },
   "outputs": [
    {
     "name": "stdout",
     "output_type": "stream",
     "text": [
      "Summary Statistics \n",
      "\n",
      "len       200.000000\n",
      "min         1.000000\n",
      "max        99.000000\n",
      "median     50.000000\n",
      "mean       50.200000\n",
      "std        25.823522\n",
      "Name: Spending Score (1-100), dtype: float64\n",
      "=================================================\n",
      "Missing values: 0\n",
      "=================================================\n",
      "\n"
     ]
    },
    {
     "data": {
      "image/png": "[encoded data removed]",
      "text/plain": [
       "<Figure size 576x432 with 2 Axes>"
      ]
     },
     "metadata": {
      "needs_background": "light"
     },
     "output_type": "display_data"
    }
   ],
   "source": [
    "explore_numvar(mc,'Spending Score (1-100)')"
   ]
  },
  {
   "cell_type": "code",
   "execution_count": 23,
   "id": "70248a2d",
   "metadata": {
    "scrolled": false
   },
   "outputs": [
    {
     "name": "stdout",
     "output_type": "stream",
     "text": [
      "Summary Statistics \n",
      "\n",
      "len       200.000000\n",
      "min        15.000000\n",
      "max       137.000000\n",
      "median     61.500000\n",
      "mean       60.560000\n",
      "std        26.264721\n",
      "Name: Annual Income (k$), dtype: float64\n",
      "=================================================\n",
      "Missing values: 0\n",
      "=================================================\n",
      "\n"
     ]
    },
    {
     "data": {
      "image/png": "[encoded data removed]",
      "text/plain": [
       "<Figure size 576x432 with 2 Axes>"
      ]
     },
     "metadata": {
      "needs_background": "light"
     },
     "output_type": "display_data"
    }
   ],
   "source": [
    "explore_numvar(mc,'Annual Income (k$)')"
   ]
  },
  {
   "cell_type": "markdown",
   "id": "a4738385",
   "metadata": {},
   "source": [
    "# 4. Data Preprocessing\n"
   ]
  },
  {
   "cell_type": "markdown",
   "id": "a3878575",
   "metadata": {},
   "source": [
    "### Encoding categorical variables"
   ]
  },
  {
   "cell_type": "markdown",
   "id": "c68e4769",
   "metadata": {},
   "source": [
    "the gender column in the data is a categorical. categories in the feature will be encoded. thus replaced with numbers (0,1). '0' for male and '1' for female.\n",
    "\n",
    "\n",
    "Scaling will not be possible if this is not done"
   ]
  },
  {
   "cell_type": "code",
   "execution_count": 24,
   "id": "de142437",
   "metadata": {},
   "outputs": [],
   "source": [
    "mc['Gender'].replace(['Male','Female'],[0,1], inplace = True)"
   ]
  },
  {
   "cell_type": "code",
   "execution_count": 25,
   "id": "6a951410",
   "metadata": {},
   "outputs": [
    {
     "data": {
      "text/html": [
       "<div>\n",
       "<style scoped>\n",
       "    .dataframe tbody tr th:only-of-type {\n",
       "        vertical-align: middle;\n",
       "    }\n",
       "\n",
       "    .dataframe tbody tr th {\n",
       "        vertical-align: top;\n",
       "    }\n",
       "\n",
       "    .dataframe thead th {\n",
       "        text-align: right;\n",
       "    }\n",
       "</style>\n",
       "<table border=\"1\" class=\"dataframe\">\n",
       "  <thead>\n",
       "    <tr style=\"text-align: right;\">\n",
       "      <th></th>\n",
       "      <th>Gender</th>\n",
       "      <th>Age</th>\n",
       "      <th>Annual Income (k$)</th>\n",
       "      <th>Spending Score (1-100)</th>\n",
       "    </tr>\n",
       "  </thead>\n",
       "  <tbody>\n",
       "    <tr>\n",
       "      <th>0</th>\n",
       "      <td>0</td>\n",
       "      <td>19</td>\n",
       "      <td>15</td>\n",
       "      <td>39</td>\n",
       "    </tr>\n",
       "    <tr>\n",
       "      <th>1</th>\n",
       "      <td>0</td>\n",
       "      <td>21</td>\n",
       "      <td>15</td>\n",
       "      <td>81</td>\n",
       "    </tr>\n",
       "    <tr>\n",
       "      <th>2</th>\n",
       "      <td>1</td>\n",
       "      <td>20</td>\n",
       "      <td>16</td>\n",
       "      <td>6</td>\n",
       "    </tr>\n",
       "    <tr>\n",
       "      <th>3</th>\n",
       "      <td>1</td>\n",
       "      <td>23</td>\n",
       "      <td>16</td>\n",
       "      <td>77</td>\n",
       "    </tr>\n",
       "    <tr>\n",
       "      <th>4</th>\n",
       "      <td>1</td>\n",
       "      <td>31</td>\n",
       "      <td>17</td>\n",
       "      <td>40</td>\n",
       "    </tr>\n",
       "  </tbody>\n",
       "</table>\n",
       "</div>"
      ],
      "text/plain": [
       "   Gender  Age  Annual Income (k$)  Spending Score (1-100)\n",
       "0       0   19                  15                      39\n",
       "1       0   21                  15                      81\n",
       "2       1   20                  16                       6\n",
       "3       1   23                  16                      77\n",
       "4       1   31                  17                      40"
      ]
     },
     "execution_count": 25,
     "metadata": {},
     "output_type": "execute_result"
    }
   ],
   "source": [
    "mc.head()"
   ]
  },
  {
   "cell_type": "markdown",
   "id": "0445bdcb",
   "metadata": {},
   "source": [
    "### Centering and scaling data\n",
    "Kmeasn algorithm will perform better when the data is centered and scaled.\n",
    "\n",
    "\n",
    "Standard scaler from sklearn will be used "
   ]
  },
  {
   "cell_type": "code",
   "execution_count": 26,
   "id": "4b686a3c",
   "metadata": {},
   "outputs": [
    {
     "data": {
      "text/html": [
       "<div>\n",
       "<style scoped>\n",
       "    .dataframe tbody tr th:only-of-type {\n",
       "        vertical-align: middle;\n",
       "    }\n",
       "\n",
       "    .dataframe tbody tr th {\n",
       "        vertical-align: top;\n",
       "    }\n",
       "\n",
       "    .dataframe thead th {\n",
       "        text-align: right;\n",
       "    }\n",
       "</style>\n",
       "<table border=\"1\" class=\"dataframe\">\n",
       "  <thead>\n",
       "    <tr style=\"text-align: right;\">\n",
       "      <th></th>\n",
       "      <th>Gender</th>\n",
       "      <th>Age</th>\n",
       "      <th>Annual Income (k$)</th>\n",
       "      <th>Spending Score (1-100)</th>\n",
       "    </tr>\n",
       "  </thead>\n",
       "  <tbody>\n",
       "    <tr>\n",
       "      <th>0</th>\n",
       "      <td>0</td>\n",
       "      <td>19</td>\n",
       "      <td>-1.738999</td>\n",
       "      <td>39</td>\n",
       "    </tr>\n",
       "    <tr>\n",
       "      <th>1</th>\n",
       "      <td>0</td>\n",
       "      <td>21</td>\n",
       "      <td>-1.738999</td>\n",
       "      <td>81</td>\n",
       "    </tr>\n",
       "    <tr>\n",
       "      <th>2</th>\n",
       "      <td>1</td>\n",
       "      <td>20</td>\n",
       "      <td>-1.700830</td>\n",
       "      <td>6</td>\n",
       "    </tr>\n",
       "    <tr>\n",
       "      <th>3</th>\n",
       "      <td>1</td>\n",
       "      <td>23</td>\n",
       "      <td>-1.700830</td>\n",
       "      <td>77</td>\n",
       "    </tr>\n",
       "    <tr>\n",
       "      <th>4</th>\n",
       "      <td>1</td>\n",
       "      <td>31</td>\n",
       "      <td>-1.662660</td>\n",
       "      <td>40</td>\n",
       "    </tr>\n",
       "  </tbody>\n",
       "</table>\n",
       "</div>"
      ],
      "text/plain": [
       "   Gender  Age  Annual Income (k$)  Spending Score (1-100)\n",
       "0       0   19           -1.738999                      39\n",
       "1       0   21           -1.738999                      81\n",
       "2       1   20           -1.700830                       6\n",
       "3       1   23           -1.700830                      77\n",
       "4       1   31           -1.662660                      40"
      ]
     },
     "execution_count": 26,
     "metadata": {},
     "output_type": "execute_result"
    }
   ],
   "source": [
    "# Scaling the data using standardscaler\n",
    "from sklearn.preprocessing import StandardScaler\n",
    "scaler = StandardScaler()\n",
    "scaler.fit(mc[['Annual Income (k$)']])\n",
    "mc['Annual Income (k$)'] = scaler.transform(mc[['Annual Income (k$)']])\n",
    "mc.head()"
   ]
  },
  {
   "cell_type": "code",
   "execution_count": 27,
   "id": "bc7197ef",
   "metadata": {},
   "outputs": [
    {
     "data": {
      "text/html": [
       "<div>\n",
       "<style scoped>\n",
       "    .dataframe tbody tr th:only-of-type {\n",
       "        vertical-align: middle;\n",
       "    }\n",
       "\n",
       "    .dataframe tbody tr th {\n",
       "        vertical-align: top;\n",
       "    }\n",
       "\n",
       "    .dataframe thead th {\n",
       "        text-align: right;\n",
       "    }\n",
       "</style>\n",
       "<table border=\"1\" class=\"dataframe\">\n",
       "  <thead>\n",
       "    <tr style=\"text-align: right;\">\n",
       "      <th></th>\n",
       "      <th>Gender</th>\n",
       "      <th>Age</th>\n",
       "      <th>Annual Income (k$)</th>\n",
       "      <th>Spending Score (1-100)</th>\n",
       "    </tr>\n",
       "  </thead>\n",
       "  <tbody>\n",
       "    <tr>\n",
       "      <th>0</th>\n",
       "      <td>0</td>\n",
       "      <td>19</td>\n",
       "      <td>-1.738999</td>\n",
       "      <td>-0.434801</td>\n",
       "    </tr>\n",
       "    <tr>\n",
       "      <th>1</th>\n",
       "      <td>0</td>\n",
       "      <td>21</td>\n",
       "      <td>-1.738999</td>\n",
       "      <td>1.195704</td>\n",
       "    </tr>\n",
       "    <tr>\n",
       "      <th>2</th>\n",
       "      <td>1</td>\n",
       "      <td>20</td>\n",
       "      <td>-1.700830</td>\n",
       "      <td>-1.715913</td>\n",
       "    </tr>\n",
       "    <tr>\n",
       "      <th>3</th>\n",
       "      <td>1</td>\n",
       "      <td>23</td>\n",
       "      <td>-1.700830</td>\n",
       "      <td>1.040418</td>\n",
       "    </tr>\n",
       "    <tr>\n",
       "      <th>4</th>\n",
       "      <td>1</td>\n",
       "      <td>31</td>\n",
       "      <td>-1.662660</td>\n",
       "      <td>-0.395980</td>\n",
       "    </tr>\n",
       "  </tbody>\n",
       "</table>\n",
       "</div>"
      ],
      "text/plain": [
       "   Gender  Age  Annual Income (k$)  Spending Score (1-100)\n",
       "0       0   19           -1.738999               -0.434801\n",
       "1       0   21           -1.738999                1.195704\n",
       "2       1   20           -1.700830               -1.715913\n",
       "3       1   23           -1.700830                1.040418\n",
       "4       1   31           -1.662660               -0.395980"
      ]
     },
     "execution_count": 27,
     "metadata": {},
     "output_type": "execute_result"
    }
   ],
   "source": [
    "scaler.fit(mc[['Spending Score (1-100)']])\n",
    "mc['Spending Score (1-100)'] = scaler.transform(mc[['Spending Score (1-100)']])\n",
    "mc.head()"
   ]
  },
  {
   "cell_type": "code",
   "execution_count": 28,
   "id": "fe05cbb8",
   "metadata": {},
   "outputs": [
    {
     "data": {
      "text/html": [
       "<div>\n",
       "<style scoped>\n",
       "    .dataframe tbody tr th:only-of-type {\n",
       "        vertical-align: middle;\n",
       "    }\n",
       "\n",
       "    .dataframe tbody tr th {\n",
       "        vertical-align: top;\n",
       "    }\n",
       "\n",
       "    .dataframe thead th {\n",
       "        text-align: right;\n",
       "    }\n",
       "</style>\n",
       "<table border=\"1\" class=\"dataframe\">\n",
       "  <thead>\n",
       "    <tr style=\"text-align: right;\">\n",
       "      <th></th>\n",
       "      <th>Gender</th>\n",
       "      <th>Age</th>\n",
       "      <th>Annual Income (k$)</th>\n",
       "      <th>Spending Score (1-100)</th>\n",
       "    </tr>\n",
       "  </thead>\n",
       "  <tbody>\n",
       "    <tr>\n",
       "      <th>0</th>\n",
       "      <td>0</td>\n",
       "      <td>-1.424569</td>\n",
       "      <td>-1.738999</td>\n",
       "      <td>-0.434801</td>\n",
       "    </tr>\n",
       "    <tr>\n",
       "      <th>1</th>\n",
       "      <td>0</td>\n",
       "      <td>-1.281035</td>\n",
       "      <td>-1.738999</td>\n",
       "      <td>1.195704</td>\n",
       "    </tr>\n",
       "    <tr>\n",
       "      <th>2</th>\n",
       "      <td>1</td>\n",
       "      <td>-1.352802</td>\n",
       "      <td>-1.700830</td>\n",
       "      <td>-1.715913</td>\n",
       "    </tr>\n",
       "    <tr>\n",
       "      <th>3</th>\n",
       "      <td>1</td>\n",
       "      <td>-1.137502</td>\n",
       "      <td>-1.700830</td>\n",
       "      <td>1.040418</td>\n",
       "    </tr>\n",
       "    <tr>\n",
       "      <th>4</th>\n",
       "      <td>1</td>\n",
       "      <td>-0.563369</td>\n",
       "      <td>-1.662660</td>\n",
       "      <td>-0.395980</td>\n",
       "    </tr>\n",
       "  </tbody>\n",
       "</table>\n",
       "</div>"
      ],
      "text/plain": [
       "   Gender       Age  Annual Income (k$)  Spending Score (1-100)\n",
       "0       0 -1.424569           -1.738999               -0.434801\n",
       "1       0 -1.281035           -1.738999                1.195704\n",
       "2       1 -1.352802           -1.700830               -1.715913\n",
       "3       1 -1.137502           -1.700830                1.040418\n",
       "4       1 -0.563369           -1.662660               -0.395980"
      ]
     },
     "execution_count": 28,
     "metadata": {},
     "output_type": "execute_result"
    }
   ],
   "source": [
    "scaler.fit(mc[['Age']])\n",
    "mc['Age'] = scaler.transform(mc[['Age']])\n",
    "mc.head()"
   ]
  },
  {
   "cell_type": "markdown",
   "id": "587a2ccb",
   "metadata": {},
   "source": [
    "# 5.Creating clusters with KMeans Algorithm"
   ]
  },
  {
   "cell_type": "markdown",
   "id": "c5960532",
   "metadata": {},
   "source": [
    "### Choosing the number of clusters using the elbow method"
   ]
  },
  {
   "cell_type": "code",
   "execution_count": 29,
   "id": "fd987901",
   "metadata": {},
   "outputs": [
    {
     "data": {
      "image/png": "[encoded data removed]",
      "text/plain": [
       "<Figure size 648x504 with 1 Axes>"
      ]
     },
     "metadata": {},
     "output_type": "display_data"
    }
   ],
   "source": [
    "from sklearn.cluster import KMeans\n",
    "sns.set_style('darkgrid')\n",
    "sum_of_sq_dist = {}\n",
    "for k in range(1,9):\n",
    "    km = KMeans(n_clusters = k, init = \"k-means++\", max_iter = 100)\n",
    "    km = km.fit(mc[['Annual Income (k$)','Spending Score (1-100)','Age']])\n",
    "    sum_of_sq_dist[k] = km.inertia_\n",
    "    \n",
    "# plotting the graph of numnber of clusters\n",
    "plt.figure(figsize = (9,7))\n",
    "sns.pointplot(x = list(sum_of_sq_dist.keys()), y = list(sum_of_sq_dist.values()),markers = '*')\n",
    "plt.xlabel(\"Number olf Cluster(k)\")\n",
    "plt.ylabel(\"Sum of squared Distances\")\n",
    "plt.title(\"Choosing the number clusters(elbow method)\",pad = 0.9)\n",
    "plt.show()"
   ]
  },
  {
   "cell_type": "code",
   "execution_count": 30,
   "id": "41b3eb9b",
   "metadata": {
    "scrolled": true
   },
   "outputs": [
    {
     "data": {
      "text/html": [
       "<div>\n",
       "<style scoped>\n",
       "    .dataframe tbody tr th:only-of-type {\n",
       "        vertical-align: middle;\n",
       "    }\n",
       "\n",
       "    .dataframe tbody tr th {\n",
       "        vertical-align: top;\n",
       "    }\n",
       "\n",
       "    .dataframe thead th {\n",
       "        text-align: right;\n",
       "    }\n",
       "</style>\n",
       "<table border=\"1\" class=\"dataframe\">\n",
       "  <thead>\n",
       "    <tr style=\"text-align: right;\">\n",
       "      <th></th>\n",
       "      <th>Gender</th>\n",
       "      <th>Age</th>\n",
       "      <th>Annual Income (k$)</th>\n",
       "      <th>Spending Score (1-100)</th>\n",
       "      <th>Clusters</th>\n",
       "    </tr>\n",
       "  </thead>\n",
       "  <tbody>\n",
       "    <tr>\n",
       "      <th>0</th>\n",
       "      <td>0</td>\n",
       "      <td>-1.424569</td>\n",
       "      <td>-1.738999</td>\n",
       "      <td>-0.434801</td>\n",
       "      <td>2</td>\n",
       "    </tr>\n",
       "    <tr>\n",
       "      <th>1</th>\n",
       "      <td>0</td>\n",
       "      <td>-1.281035</td>\n",
       "      <td>-1.738999</td>\n",
       "      <td>1.195704</td>\n",
       "      <td>3</td>\n",
       "    </tr>\n",
       "    <tr>\n",
       "      <th>2</th>\n",
       "      <td>1</td>\n",
       "      <td>-1.352802</td>\n",
       "      <td>-1.700830</td>\n",
       "      <td>-1.715913</td>\n",
       "      <td>2</td>\n",
       "    </tr>\n",
       "    <tr>\n",
       "      <th>3</th>\n",
       "      <td>1</td>\n",
       "      <td>-1.137502</td>\n",
       "      <td>-1.700830</td>\n",
       "      <td>1.040418</td>\n",
       "      <td>3</td>\n",
       "    </tr>\n",
       "    <tr>\n",
       "      <th>4</th>\n",
       "      <td>1</td>\n",
       "      <td>-0.563369</td>\n",
       "      <td>-1.662660</td>\n",
       "      <td>-0.395980</td>\n",
       "      <td>2</td>\n",
       "    </tr>\n",
       "  </tbody>\n",
       "</table>\n",
       "</div>"
      ],
      "text/plain": [
       "   Gender       Age  Annual Income (k$)  Spending Score (1-100)  Clusters\n",
       "0       0 -1.424569           -1.738999               -0.434801         2\n",
       "1       0 -1.281035           -1.738999                1.195704         3\n",
       "2       1 -1.352802           -1.700830               -1.715913         2\n",
       "3       1 -1.137502           -1.700830                1.040418         3\n",
       "4       1 -0.563369           -1.662660               -0.395980         2"
      ]
     },
     "execution_count": 30,
     "metadata": {},
     "output_type": "execute_result"
    }
   ],
   "source": [
    "#Perform K-Mean Clustering or build the K-Means clustering model\n",
    "\n",
    "KMean_clust = KMeans(n_clusters= 5, init= 'k-means++', max_iter= 1000,random_state = 3)\n",
    "y_predict = KMean_clust.fit_predict(mc[['Annual Income (k$)','Spending Score (1-100)']])\n",
    "\n",
    "#Find the clusters for the observation given in the dataset\n",
    "mc['Clusters'] = KMean_clust.labels_\n",
    "mc.head()"
   ]
  },
  {
   "cell_type": "code",
   "execution_count": 31,
   "id": "d68c3ae2",
   "metadata": {},
   "outputs": [
    {
     "name": "stdout",
     "output_type": "stream",
     "text": [
      "[2 3 2 3 2 3 2 3 2 3 2 3 2 3 2 3 2 3 2 3 2 3 2 3 2 3 2 3 2 3 2 3 2 3 2 3 2\n",
      " 3 2 3 2 3 2 0 2 3 0 0 0 0 0 0 0 0 0 0 0 0 0 0 0 0 0 0 0 0 0 0 0 0 0 0 0 0\n",
      " 0 0 0 0 0 0 0 0 0 0 0 0 0 0 0 0 0 0 0 0 0 0 0 0 0 0 0 0 0 0 0 0 0 0 0 0 0\n",
      " 0 0 0 0 0 0 0 0 0 0 0 0 1 4 1 0 1 4 1 4 1 0 1 4 1 4 1 4 1 4 1 0 1 4 1 4 1\n",
      " 4 1 4 1 4 1 4 1 4 1 4 1 4 1 4 1 4 1 4 1 4 1 4 1 4 1 4 1 4 1 4 1 4 1 4 1 4\n",
      " 1 4 1 4 1 4 1 4 1 4 1 4 1 4 1]\n"
     ]
    }
   ],
   "source": [
    "print(y_predict)"
   ]
  },
  {
   "cell_type": "code",
   "execution_count": 32,
   "id": "d6820e30",
   "metadata": {},
   "outputs": [
    {
     "data": {
      "text/html": [
       "<div>\n",
       "<style scoped>\n",
       "    .dataframe tbody tr th:only-of-type {\n",
       "        vertical-align: middle;\n",
       "    }\n",
       "\n",
       "    .dataframe tbody tr th {\n",
       "        vertical-align: top;\n",
       "    }\n",
       "\n",
       "    .dataframe thead th {\n",
       "        text-align: right;\n",
       "    }\n",
       "</style>\n",
       "<table border=\"1\" class=\"dataframe\">\n",
       "  <thead>\n",
       "    <tr style=\"text-align: right;\">\n",
       "      <th></th>\n",
       "      <th>Gender</th>\n",
       "      <th>Age</th>\n",
       "      <th>Annual Income (k$)</th>\n",
       "      <th>Spending Score (1-100)</th>\n",
       "      <th>Clusters</th>\n",
       "    </tr>\n",
       "  </thead>\n",
       "  <tbody>\n",
       "    <tr>\n",
       "      <th>0</th>\n",
       "      <td>0</td>\n",
       "      <td>-1.424569</td>\n",
       "      <td>-1.738999</td>\n",
       "      <td>-0.434801</td>\n",
       "      <td>2</td>\n",
       "    </tr>\n",
       "    <tr>\n",
       "      <th>1</th>\n",
       "      <td>0</td>\n",
       "      <td>-1.281035</td>\n",
       "      <td>-1.738999</td>\n",
       "      <td>1.195704</td>\n",
       "      <td>3</td>\n",
       "    </tr>\n",
       "    <tr>\n",
       "      <th>2</th>\n",
       "      <td>1</td>\n",
       "      <td>-1.352802</td>\n",
       "      <td>-1.700830</td>\n",
       "      <td>-1.715913</td>\n",
       "      <td>2</td>\n",
       "    </tr>\n",
       "    <tr>\n",
       "      <th>3</th>\n",
       "      <td>1</td>\n",
       "      <td>-1.137502</td>\n",
       "      <td>-1.700830</td>\n",
       "      <td>1.040418</td>\n",
       "      <td>3</td>\n",
       "    </tr>\n",
       "    <tr>\n",
       "      <th>4</th>\n",
       "      <td>1</td>\n",
       "      <td>-0.563369</td>\n",
       "      <td>-1.662660</td>\n",
       "      <td>-0.395980</td>\n",
       "      <td>2</td>\n",
       "    </tr>\n",
       "  </tbody>\n",
       "</table>\n",
       "</div>"
      ],
      "text/plain": [
       "   Gender       Age  Annual Income (k$)  Spending Score (1-100)  Clusters\n",
       "0       0 -1.424569           -1.738999               -0.434801         2\n",
       "1       0 -1.281035           -1.738999                1.195704         3\n",
       "2       1 -1.352802           -1.700830               -1.715913         2\n",
       "3       1 -1.137502           -1.700830                1.040418         3\n",
       "4       1 -0.563369           -1.662660               -0.395980         2"
      ]
     },
     "execution_count": 32,
     "metadata": {},
     "output_type": "execute_result"
    }
   ],
   "source": [
    "mc['Clusters'] = y_predict\n",
    "mc.head()"
   ]
  },
  {
   "cell_type": "code",
   "execution_count": 33,
   "id": "8b831f2f",
   "metadata": {},
   "outputs": [
    {
     "data": {
      "text/plain": [
       "array([[-0.20091257, -0.02645617],\n",
       "       [ 0.99158305,  1.23950275],\n",
       "       [-1.30751869, -1.13696536],\n",
       "       [-1.32954532,  1.13217788],\n",
       "       [ 1.05500302, -1.28443907]])"
      ]
     },
     "execution_count": 33,
     "metadata": {},
     "output_type": "execute_result"
    }
   ],
   "source": [
    "KMean_clust.cluster_centers_"
   ]
  },
  {
   "cell_type": "code",
   "execution_count": null,
   "id": "fb361657",
   "metadata": {},
   "outputs": [],
   "source": []
  },
  {
   "cell_type": "code",
   "execution_count": 34,
   "id": "c857421e",
   "metadata": {
    "scrolled": false
   },
   "outputs": [
    {
     "data": {
      "image/png": "[encoded data removed]",
      "text/plain": [
       "<Figure size 720x432 with 1 Axes>"
      ]
     },
     "metadata": {},
     "output_type": "display_data"
    }
   ],
   "source": [
    "mc1 = mc[mc.Clusters == 0]\n",
    "mc2 = mc[mc.Clusters == 1]\n",
    "mc3 = mc[mc.Clusters == 2]\n",
    "mc4 = mc[mc.Clusters == 3]\n",
    "mc5 = mc[mc.Clusters == 4]\n",
    "plt.scatter(mc1['Annual Income (k$)'], mc1['Spending Score (1-100)'], \n",
    "            color = 'red',\n",
    "            label = 'concious spenders')\n",
    "plt.scatter(mc2['Annual Income (k$)'], mc2['Spending Score (1-100)'], \n",
    "            color = 'gold', \n",
    "            label = \"vip\")\n",
    "plt.scatter(mc3['Annual Income (k$)'], mc3['Spending Score (1-100)'], \n",
    "            color = 'green', \n",
    "            label = 'careful')\n",
    "plt.scatter(mc4['Annual Income (k$)'], mc4['Spending Score (1-100)'],\n",
    "            color = 'brown',\n",
    "            label = 'lavish')\n",
    "plt.scatter(mc5['Annual Income (k$)'], mc5['Spending Score (1-100)'], color = 'purple',\n",
    "            label = 'economical')\n",
    "plt.scatter(KMean_clust.cluster_centers_[:,0],KMean_clust.cluster_centers_[:,1],color = 'black', marker = \"v\",\n",
    "            label = \"centroid\")\n",
    "plt.legend()\n",
    "plt.xlabel('Annual Income', fontsize = 15)\n",
    "plt.ylabel('Spending Score', fontsize = 15)\n",
    "plt.show()"
   ]
  },
  {
   "cell_type": "markdown",
   "id": "4e99d51e",
   "metadata": {},
   "source": [
    "The clustering analysis above displays clearly the segments of mall customers. With their annual income and spending scores as the best attributes to divide them. The customers are split into 5 different segments, namely vip,concious spenders, lavish, economical and careful spenders."
   ]
  },
  {
   "cell_type": "markdown",
   "id": "eee782a0",
   "metadata": {},
   "source": [
    "# 6. Analysing Clusters"
   ]
  },
  {
   "cell_type": "markdown",
   "id": "6c014b50",
   "metadata": {},
   "source": [
    "### Cluster 1\n",
    "Customers in cluster 1 which is represented by the color red are more conserved and concious spenders. These customers spend within their income limits.\n",
    "\n",
    "### Cluster 2\n",
    "Customers in cluster 2 which is represented by the color gold make more and spend more. they are the VIPs.\n",
    "\n",
    "### Cluster 3\n",
    "Customers in cluster 3 which is represented by the color green are careful spenders. since they make very little, their spending habits are very minimal\n",
    "\n",
    "### Cluster 4\n",
    "Customers in cluster 4 which is represented by the color brown are lavish spenders. they make less but spend more. In other word, they are spendrifts.\n",
    "\n",
    "### Cluster 5 \n",
    "Customers in cluster 5 which is represented by the color purple are more economical. Eventhough they make more income they tend to spend less."
   ]
  },
  {
   "cell_type": "code",
   "execution_count": null,
   "id": "482d5452",
   "metadata": {},
   "outputs": [],
   "source": []
  }
 ],
 "metadata": {
  "kernelspec": {
   "display_name": "Python 3",
   "language": "python",
   "name": "python3"
  },
  "language_info": {
   "codemirror_mode": {
    "name": "ipython",
    "version": 3
   },
   "file_extension": ".py",
   "mimetype": "text/x-python",
   "name": "python",
   "nbconvert_exporter": "python",
   "pygments_lexer": "ipython3",
   "version": "3.8.8"
  }
 },
 "nbformat": 4,
 "nbformat_minor": 5
}
